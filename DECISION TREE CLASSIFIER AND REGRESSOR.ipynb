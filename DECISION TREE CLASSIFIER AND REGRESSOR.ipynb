{
 "cells": [
  {
   "cell_type": "code",
   "execution_count": 1,
   "id": "bb7ea0a3",
   "metadata": {},
   "outputs": [],
   "source": [
    "import pandas as pd\n",
    "import numpy as np\n",
    "from sklearn.model_selection import train_test_split\n",
    "from sklearn.tree import DecisionTreeClassifier,DecisionTreeRegressor\n",
    "from sklearn.metrics import roc_auc_score,r2_score\n",
    "from sklearn.linear_model import LinearRegression,LogisticRegression\n",
    "from sklearn.svm import SVC"
   ]
  },
  {
   "cell_type": "code",
   "execution_count": 2,
   "id": "ff39a04f",
   "metadata": {},
   "outputs": [],
   "source": [
    "col = ['CRIM', 'ZN', 'INDUS', 'CHAS', 'NOX', 'RM', 'AGE', 'DIS', 'RAD', 'TAX', 'PTRATIO', 'B', 'LSTAT', 'MEDV']"
   ]
  },
  {
   "cell_type": "code",
   "execution_count": 3,
   "id": "c03e7139",
   "metadata": {},
   "outputs": [],
   "source": [
    "data1=pd.read_csv('Copy of Housing.csv',delim_whitespace=True,header=None,names=col)"
   ]
  },
  {
   "cell_type": "code",
   "execution_count": 4,
   "id": "e1fe8899",
   "metadata": {},
   "outputs": [
    {
     "data": {
      "text/html": [
       "<div>\n",
       "<style scoped>\n",
       "    .dataframe tbody tr th:only-of-type {\n",
       "        vertical-align: middle;\n",
       "    }\n",
       "\n",
       "    .dataframe tbody tr th {\n",
       "        vertical-align: top;\n",
       "    }\n",
       "\n",
       "    .dataframe thead th {\n",
       "        text-align: right;\n",
       "    }\n",
       "</style>\n",
       "<table border=\"1\" class=\"dataframe\">\n",
       "  <thead>\n",
       "    <tr style=\"text-align: right;\">\n",
       "      <th></th>\n",
       "      <th>CRIM</th>\n",
       "      <th>ZN</th>\n",
       "      <th>INDUS</th>\n",
       "      <th>CHAS</th>\n",
       "      <th>NOX</th>\n",
       "      <th>RM</th>\n",
       "      <th>AGE</th>\n",
       "      <th>DIS</th>\n",
       "      <th>RAD</th>\n",
       "      <th>TAX</th>\n",
       "      <th>PTRATIO</th>\n",
       "      <th>B</th>\n",
       "      <th>LSTAT</th>\n",
       "      <th>MEDV</th>\n",
       "    </tr>\n",
       "  </thead>\n",
       "  <tbody>\n",
       "    <tr>\n",
       "      <th>0</th>\n",
       "      <td>0.00632</td>\n",
       "      <td>18.0</td>\n",
       "      <td>2.31</td>\n",
       "      <td>0</td>\n",
       "      <td>0.538</td>\n",
       "      <td>6.575</td>\n",
       "      <td>65.2</td>\n",
       "      <td>4.09</td>\n",
       "      <td>1</td>\n",
       "      <td>296.0</td>\n",
       "      <td>15.3</td>\n",
       "      <td>396.9</td>\n",
       "      <td>4.98</td>\n",
       "      <td>24.0</td>\n",
       "    </tr>\n",
       "  </tbody>\n",
       "</table>\n",
       "</div>"
      ],
      "text/plain": [
       "      CRIM    ZN  INDUS  CHAS    NOX     RM   AGE   DIS  RAD    TAX  PTRATIO  \\\n",
       "0  0.00632  18.0   2.31     0  0.538  6.575  65.2  4.09    1  296.0     15.3   \n",
       "\n",
       "       B  LSTAT  MEDV  \n",
       "0  396.9   4.98  24.0  "
      ]
     },
     "execution_count": 4,
     "metadata": {},
     "output_type": "execute_result"
    }
   ],
   "source": [
    "data1.head(1)"
   ]
  },
  {
   "cell_type": "code",
   "execution_count": 5,
   "id": "40288a10",
   "metadata": {},
   "outputs": [],
   "source": [
    "x1=data1.iloc[:,:-1]\n",
    "y1=data1.iloc[:,-1]\n",
    "x1_train,x1_test,y1_train,y1_test=train_test_split(x1,y1,test_size=0.2,random_state=0)"
   ]
  },
  {
   "cell_type": "markdown",
   "id": "8ce9b1c5",
   "metadata": {},
   "source": [
    "### DECISION TREE REGRESSOR"
   ]
  },
  {
   "cell_type": "code",
   "execution_count": 6,
   "id": "5dc60203",
   "metadata": {},
   "outputs": [
    {
     "name": "stdout",
     "output_type": "stream",
     "text": [
      "0.6080752142976497\n",
      "the r2 value is 0.6080752142976497\n"
     ]
    }
   ],
   "source": [
    "dr1=DecisionTreeRegressor(criterion='squared_error',random_state=0)\n",
    "dr1.fit(x1_train,y1_train)\n",
    "print(dr1.score(x1_test,y1_test))\n",
    "print(f'the r2 value is {r2_score(y1_test,dr1.predict(x1_test))}')"
   ]
  },
  {
   "cell_type": "markdown",
   "id": "3236b4a0",
   "metadata": {},
   "source": [
    "### LINEAR REGRESSION"
   ]
  },
  {
   "cell_type": "code",
   "execution_count": 7,
   "id": "84030b81",
   "metadata": {
    "scrolled": true
   },
   "outputs": [
    {
     "name": "stdout",
     "output_type": "stream",
     "text": [
      "the r2 value is 0.5892223849182519\n"
     ]
    }
   ],
   "source": [
    "lr1=LinearRegression()\n",
    "lr1.fit(x1_train,y1_train)\n",
    "print(f'the r2 value is {r2_score(y1_test,lr1.predict(x1_test))}')"
   ]
  },
  {
   "cell_type": "markdown",
   "id": "c4a283b3",
   "metadata": {},
   "source": [
    "# CLASSIFICATION"
   ]
  },
  {
   "cell_type": "code",
   "execution_count": 22,
   "id": "73cc7a05",
   "metadata": {
    "collapsed": true
   },
   "outputs": [
    {
     "data": {
      "text/html": [
       "<div>\n",
       "<style scoped>\n",
       "    .dataframe tbody tr th:only-of-type {\n",
       "        vertical-align: middle;\n",
       "    }\n",
       "\n",
       "    .dataframe tbody tr th {\n",
       "        vertical-align: top;\n",
       "    }\n",
       "\n",
       "    .dataframe thead th {\n",
       "        text-align: right;\n",
       "    }\n",
       "</style>\n",
       "<table border=\"1\" class=\"dataframe\">\n",
       "  <thead>\n",
       "    <tr style=\"text-align: right;\">\n",
       "      <th></th>\n",
       "      <th>air_pressure_9am</th>\n",
       "      <th>air_temp_9am</th>\n",
       "      <th>avg_wind_direction_9am</th>\n",
       "      <th>avg_wind_speed_9am</th>\n",
       "      <th>max_wind_direction_9am</th>\n",
       "      <th>max_wind_speed_9am</th>\n",
       "      <th>rain_accumulation_9am</th>\n",
       "      <th>rain_duration_9am</th>\n",
       "      <th>relative_humidity_9am</th>\n",
       "      <th>high_humidity_3pm</th>\n",
       "    </tr>\n",
       "  </thead>\n",
       "  <tbody>\n",
       "    <tr>\n",
       "      <th>0</th>\n",
       "      <td>918.06</td>\n",
       "      <td>74.822</td>\n",
       "      <td>271.1</td>\n",
       "      <td>2.080354</td>\n",
       "      <td>295.4</td>\n",
       "      <td>2.863283</td>\n",
       "      <td>0.0</td>\n",
       "      <td>0.0</td>\n",
       "      <td>42.42</td>\n",
       "      <td>1</td>\n",
       "    </tr>\n",
       "  </tbody>\n",
       "</table>\n",
       "</div>"
      ],
      "text/plain": [
       "   air_pressure_9am  air_temp_9am  avg_wind_direction_9am  avg_wind_speed_9am  \\\n",
       "0            918.06        74.822                   271.1            2.080354   \n",
       "\n",
       "   max_wind_direction_9am  max_wind_speed_9am  rain_accumulation_9am  \\\n",
       "0                   295.4            2.863283                    0.0   \n",
       "\n",
       "   rain_duration_9am  relative_humidity_9am  high_humidity_3pm  \n",
       "0                0.0                  42.42                  1  "
      ]
     },
     "execution_count": 22,
     "metadata": {},
     "output_type": "execute_result"
    }
   ],
   "source": [
    "data2=pd.read_csv('daily_weather.csv')\n",
    "data2.head(1)"
   ]
  },
  {
   "cell_type": "code",
   "execution_count": 9,
   "id": "531b54f9",
   "metadata": {},
   "outputs": [
    {
     "data": {
      "text/plain": [
       "air_pressure_9am          3\n",
       "air_temp_9am              5\n",
       "avg_wind_direction_9am    4\n",
       "avg_wind_speed_9am        3\n",
       "max_wind_direction_9am    3\n",
       "max_wind_speed_9am        4\n",
       "rain_accumulation_9am     6\n",
       "rain_duration_9am         3\n",
       "relative_humidity_9am     0\n",
       "high_humidity_3pm         0\n",
       "dtype: int64"
      ]
     },
     "execution_count": 9,
     "metadata": {},
     "output_type": "execute_result"
    }
   ],
   "source": [
    "data2.isnull().sum()"
   ]
  },
  {
   "cell_type": "code",
   "execution_count": 10,
   "id": "9e265f80",
   "metadata": {},
   "outputs": [
    {
     "data": {
      "text/plain": [
       "(1095, 10)"
      ]
     },
     "execution_count": 10,
     "metadata": {},
     "output_type": "execute_result"
    }
   ],
   "source": [
    "data2.shape"
   ]
  },
  {
   "cell_type": "code",
   "execution_count": 11,
   "id": "54a6d341",
   "metadata": {},
   "outputs": [],
   "source": [
    "data2.dropna(axis=0,inplace=True)"
   ]
  },
  {
   "cell_type": "code",
   "execution_count": 12,
   "id": "91405e55",
   "metadata": {},
   "outputs": [],
   "source": [
    "x2=data2.iloc[:,:-1]\n",
    "y2=data2.iloc[:,-1]\n",
    "x2_train,x2_test,y2_train,y2_test=train_test_split(x2,y2,test_size=0.2,stratify=y2,random_state=0)"
   ]
  },
  {
   "cell_type": "code",
   "execution_count": 13,
   "id": "2ca98843",
   "metadata": {},
   "outputs": [
    {
     "name": "stdout",
     "output_type": "stream",
     "text": [
      "0    0.502938\n",
      "1    0.497062\n",
      "Name: high_humidity_3pm, dtype: float64\n",
      "0    0.502347\n",
      "1    0.497653\n",
      "Name: high_humidity_3pm, dtype: float64\n"
     ]
    }
   ],
   "source": [
    "print(y2_train.value_counts(normalize=True))\n",
    "print(y2_test.value_counts(normalize=True))"
   ]
  },
  {
   "cell_type": "markdown",
   "id": "a102e550",
   "metadata": {},
   "source": [
    "### DECISION TREE CLASSIFIER WITH ENTROPY"
   ]
  },
  {
   "cell_type": "code",
   "execution_count": 16,
   "id": "4d5a2951",
   "metadata": {
    "scrolled": true
   },
   "outputs": [
    {
     "name": "stdout",
     "output_type": "stream",
     "text": [
      "the roc auc value is 0.8215041438899664\n"
     ]
    }
   ],
   "source": [
    "dc1_entropy=DecisionTreeClassifier(criterion='entropy',random_state=0)\n",
    "dc1_entropy.fit(x2_train,y2_train)\n",
    "print(f'the roc auc value is {roc_auc_score(y2_test,dc1_entropy.predict(x2_test))}')"
   ]
  },
  {
   "cell_type": "code",
   "execution_count": 17,
   "id": "fe96741e",
   "metadata": {},
   "outputs": [
    {
     "data": {
      "text/plain": [
       "0.8215962441314554"
      ]
     },
     "execution_count": 17,
     "metadata": {},
     "output_type": "execute_result"
    }
   ],
   "source": [
    "dc1_entropy.score(x2_test,y2_test)"
   ]
  },
  {
   "cell_type": "markdown",
   "id": "33bf689d",
   "metadata": {},
   "source": [
    "### DECISION TREE CLASSIFIER WITH GINI INDEX"
   ]
  },
  {
   "cell_type": "code",
   "execution_count": 18,
   "id": "4cf58c99",
   "metadata": {},
   "outputs": [
    {
     "name": "stdout",
     "output_type": "stream",
     "text": [
      "the roc auc value is 0.8589314053958738\n",
      "0.8591549295774648\n"
     ]
    }
   ],
   "source": [
    "dc1_gini=DecisionTreeClassifier(criterion='gini',random_state=0)\n",
    "dc1_gini.fit(x2_train,y2_train)\n",
    "print(f'the roc auc value is {roc_auc_score(y2_test,dc1_gini.predict(x2_test))}')\n",
    "print(dc1_gini.score(x2_test,y2_test))"
   ]
  },
  {
   "cell_type": "markdown",
   "id": "e65563ef",
   "metadata": {},
   "source": [
    "### LOGISTIC REGRESSION  IMPLEMENTATION"
   ]
  },
  {
   "cell_type": "code",
   "execution_count": 20,
   "id": "e4409d52",
   "metadata": {},
   "outputs": [
    {
     "name": "stdout",
     "output_type": "stream",
     "text": [
      "the roc auc score is 0.8446922941280197\n",
      "the model score is 0.8450704225352113\n"
     ]
    }
   ],
   "source": [
    "lr2=LogisticRegression(max_iter=1000,random_state=0)\n",
    "lr2.fit(x2_train,y2_train)\n",
    "print(f'the roc auc score is {roc_auc_score(y2_test,lr2.predict(x2_test))}')\n",
    "print(f'the model score is {lr2.score(x2_test,y2_test)}')"
   ]
  },
  {
   "cell_type": "markdown",
   "id": "909c11eb",
   "metadata": {},
   "source": [
    "### SVM IMPLEMENTATION"
   ]
  },
  {
   "cell_type": "markdown",
   "id": "4f28568c",
   "metadata": {},
   "source": [
    "##### KERNEL=RBF"
   ]
  },
  {
   "cell_type": "code",
   "execution_count": 21,
   "id": "f23a3931",
   "metadata": {},
   "outputs": [
    {
     "data": {
      "text/plain": [
       "0.6572769953051644"
      ]
     },
     "execution_count": 21,
     "metadata": {},
     "output_type": "execute_result"
    }
   ],
   "source": [
    "s1=SVC(kernel='rbf',random_state=0)\n",
    "s1.fit(x2_train,y2_train)\n",
    "s1.score(x2_test,y2_test)"
   ]
  },
  {
   "cell_type": "markdown",
   "id": "2d8c3069",
   "metadata": {},
   "source": [
    "#### KERNEL=LINEAR"
   ]
  },
  {
   "cell_type": "code",
   "execution_count": 23,
   "id": "a725d5cc",
   "metadata": {},
   "outputs": [
    {
     "data": {
      "text/plain": [
       "0.8356807511737089"
      ]
     },
     "execution_count": 23,
     "metadata": {},
     "output_type": "execute_result"
    }
   ],
   "source": [
    "s2=SVC(kernel='linear')\n",
    "s2.fit(x2_train,y2_train)\n",
    "s2.score(x2_test,y2_test)"
   ]
  }
 ],
 "metadata": {
  "kernelspec": {
   "display_name": "Python 3 (ipykernel)",
   "language": "python",
   "name": "python3"
  },
  "language_info": {
   "codemirror_mode": {
    "name": "ipython",
    "version": 3
   },
   "file_extension": ".py",
   "mimetype": "text/x-python",
   "name": "python",
   "nbconvert_exporter": "python",
   "pygments_lexer": "ipython3",
   "version": "3.10.4"
  }
 },
 "nbformat": 4,
 "nbformat_minor": 5
}
