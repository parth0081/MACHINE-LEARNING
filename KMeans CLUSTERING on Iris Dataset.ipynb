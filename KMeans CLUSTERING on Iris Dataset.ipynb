{
 "cells": [
  {
   "cell_type": "code",
   "execution_count": 42,
   "id": "dd21c2e9",
   "metadata": {},
   "outputs": [],
   "source": [
    "import pandas as pd\n",
    "import matplotlib.pyplot as plt\n",
    "import numpy as np\n",
    "import seaborn as sns"
   ]
  },
  {
   "cell_type": "markdown",
   "id": "bc706c2c",
   "metadata": {},
   "source": [
    "### READING THE FILE "
   ]
  },
  {
   "cell_type": "code",
   "execution_count": 8,
   "id": "f693d0ac",
   "metadata": {},
   "outputs": [],
   "source": [
    "data=pd.read_csv('Iris.csv')\n",
    "df=data.copy()\n",
    "df.drop(['Id','SepalLengthCm','SepalWidthCm','Species'],axis=1,inplace=True)\n",
    "ds=df.copy()"
   ]
  },
  {
   "cell_type": "markdown",
   "id": "a73ff0f1",
   "metadata": {},
   "source": [
    "### IMPLEMENTING SCALING OUR DATA"
   ]
  },
  {
   "cell_type": "code",
   "execution_count": 10,
   "id": "3e00909c",
   "metadata": {},
   "outputs": [],
   "source": [
    "from sklearn.preprocessing import MinMaxScaler\n",
    "mm=MinMaxScaler()\n",
    "ds['PetalLengthCm']=mm.fit_transform(ds[['PetalLengthCm']])\n",
    "ds['PetalWidthCm']=mm.fit_transform(ds[['PetalWidthCm']])\n"
   ]
  },
  {
   "cell_type": "markdown",
   "id": "01ec563b",
   "metadata": {},
   "source": [
    "### SCATTER PLOT TO KNOW THE DISTRIBUTION "
   ]
  },
  {
   "cell_type": "code",
   "execution_count": 12,
   "id": "01ed230a",
   "metadata": {
    "scrolled": true
   },
   "outputs": [
    {
     "data": {
      "text/plain": [
       "<matplotlib.collections.PathCollection at 0x181d3711c00>"
      ]
     },
     "execution_count": 12,
     "metadata": {},
     "output_type": "execute_result"
    },
    {
     "data": {
      "image/png": "[encoded data removed]",
      "text/plain": [
       "<Figure size 432x288 with 1 Axes>"
      ]
     },
     "metadata": {
      "needs_background": "light"
     },
     "output_type": "display_data"
    }
   ],
   "source": [
    "plt.scatter(ds['PetalLengthCm'],ds['PetalWidthCm'])"
   ]
  },
  {
   "cell_type": "code",
   "execution_count": 28,
   "id": "4fc2f6c9",
   "metadata": {},
   "outputs": [],
   "source": [
    "from sklearn.cluster import KMeans\n",
    "km=KMeans(n_clusters=2)\n",
    "y_pred1=km.fit_predict(ds[['PetalLengthCm','PetalWidthCm']])"
   ]
  },
  {
   "cell_type": "code",
   "execution_count": 43,
   "id": "13f7eff1",
   "metadata": {},
   "outputs": [],
   "source": [
    "ds['cluster']=y_pred1\n",
    "ds1=ds[ds.cluster==0]\n",
    "ds2=ds[ds.cluster==1]\n",
    "\n"
   ]
  },
  {
   "cell_type": "markdown",
   "id": "09e85bf1",
   "metadata": {},
   "source": [
    "### PLOTTING THE SCATTER PLOT USING K VALUE OF 2"
   ]
  },
  {
   "cell_type": "code",
   "execution_count": 44,
   "id": "5725e195",
   "metadata": {
    "scrolled": true
   },
   "outputs": [
    {
     "data": {
      "text/plain": [
       "<matplotlib.collections.PathCollection at 0x181dca92620>"
      ]
     },
     "execution_count": 44,
     "metadata": {},
     "output_type": "execute_result"
    },
    {
     "data": {
      "image/png": "[encoded data removed]",
      "text/plain": [
       "<Figure size 432x288 with 1 Axes>"
      ]
     },
     "metadata": {
      "needs_background": "light"
     },
     "output_type": "display_data"
    }
   ],
   "source": [
    "plt.scatter(ds1['PetalLengthCm'],ds1['PetalWidthCm'],color='blue')\n",
    "plt.scatter(ds2['PetalLengthCm'],ds2['PetalWidthCm'],color='red')\n"
   ]
  },
  {
   "cell_type": "markdown",
   "id": "bdc23535",
   "metadata": {},
   "source": [
    "### FINDING THE OPTIMUM K VALUE USING ELBOW CURVE "
   ]
  },
  {
   "cell_type": "code",
   "execution_count": 31,
   "id": "07fa431e",
   "metadata": {},
   "outputs": [
    {
     "data": {
      "text/plain": [
       "[28.391514358368713,\n",
       " 5.179687509974784,\n",
       " 1.7050986081225126,\n",
       " 1.1621031930971282,\n",
       " 0.856792242464423,\n",
       " 0.6833274904190354,\n",
       " 0.5683512655008138,\n",
       " 0.48903237532185284,\n",
       " 0.41635853312825166]"
      ]
     },
     "execution_count": 31,
     "metadata": {},
     "output_type": "execute_result"
    }
   ],
   "source": [
    "k_values=np.arange(1,10)\n",
    "sse=[]\n",
    "for k in k_values:\n",
    "    kmm=KMeans(n_clusters=k)\n",
    "    kmm.fit(ds[['PetalLengthCm','PetalWidthCm']])\n",
    "    sse.append(kmm.inertia_)\n",
    "sse"
   ]
  },
  {
   "cell_type": "code",
   "execution_count": 32,
   "id": "7af25077",
   "metadata": {
    "scrolled": true
   },
   "outputs": [
    {
     "data": {
      "text/plain": [
       "Text(0, 0.5, 'sum of squared errors')"
      ]
     },
     "execution_count": 32,
     "metadata": {},
     "output_type": "execute_result"
    },
    {
     "data": {
      "image/png": "[encoded data removed]",
      "text/plain": [
       "<Figure size 432x288 with 1 Axes>"
      ]
     },
     "metadata": {
      "needs_background": "light"
     },
     "output_type": "display_data"
    }
   ],
   "source": [
    "plt.plot(k_values,sse)\n",
    "plt.xlabel('k values')\n",
    "plt.ylabel('sum of squared errors')"
   ]
  },
  {
   "cell_type": "markdown",
   "id": "99074f20",
   "metadata": {},
   "source": [
    "### IMPLEMENTING K MEANS ALGORITHM USING K VALUE OF 3 \n"
   ]
  },
  {
   "cell_type": "code",
   "execution_count": 36,
   "id": "9a596f12",
   "metadata": {},
   "outputs": [],
   "source": [
    "from sklearn.cluster import KMeans\n",
    "kmm=KMeans(n_clusters=3)\n",
    "y_pred2=kmm.fit_predict(ds[['PetalLengthCm','PetalWidthCm']])"
   ]
  },
  {
   "cell_type": "code",
   "execution_count": 39,
   "id": "6a97a094",
   "metadata": {},
   "outputs": [],
   "source": [
    "ds['cluster']=y_pred2\n",
    "ds3=ds[ds.cluster==0]\n",
    "ds4=ds[ds.cluster==1]\n",
    "ds5=ds[ds.cluster==2]"
   ]
  },
  {
   "cell_type": "code",
   "execution_count": 48,
   "id": "6f007628",
   "metadata": {},
   "outputs": [
    {
     "data": {
      "text/plain": [
       "<matplotlib.collections.PathCollection at 0x181e04ae710>"
      ]
     },
     "execution_count": 48,
     "metadata": {},
     "output_type": "execute_result"
    },
    {
     "data": {
      "image/png": "[encoded data removed]",
      "text/plain": [
       "<Figure size 432x288 with 1 Axes>"
      ]
     },
     "metadata": {
      "needs_background": "light"
     },
     "output_type": "display_data"
    }
   ],
   "source": [
    "plt.scatter(ds3['PetalLengthCm'],ds3['PetalWidthCm'],color='ORANGE')\n",
    "plt.scatter(ds4['PetalLengthCm'],ds4['PetalWidthCm'],color='BLUE')\n",
    "plt.scatter(ds5['PetalLengthCm'],ds5['PetalWidthCm'],color='green')"
   ]
  },
  {
   "cell_type": "code",
   "execution_count": 45,
   "id": "6a81f6fe",
   "metadata": {},
   "outputs": [
    {
     "data": {
      "text/plain": [
       "<AxesSubplot:xlabel='PetalLengthCm', ylabel='PetalWidthCm'>"
      ]
     },
     "execution_count": 45,
     "metadata": {},
     "output_type": "execute_result"
    },
    {
     "data": {
      "image/png": "[encoded data removed]",
      "text/plain": [
       "<Figure size 432x288 with 1 Axes>"
      ]
     },
     "metadata": {
      "needs_background": "light"
     },
     "output_type": "display_data"
    }
   ],
   "source": [
    "sns.scatterplot(x=data['PetalLengthCm'],y=data['PetalWidthCm'],hue=data['Species'])"
   ]
  }
 ],
 "metadata": {
  "kernelspec": {
   "display_name": "Python 3 (ipykernel)",
   "language": "python",
   "name": "python3"
  },
  "language_info": {
   "codemirror_mode": {
    "name": "ipython",
    "version": 3
   },
   "file_extension": ".py",
   "mimetype": "text/x-python",
   "name": "python",
   "nbconvert_exporter": "python",
   "pygments_lexer": "ipython3",
   "version": "3.10.4"
  }
 },
 "nbformat": 4,
 "nbformat_minor": 5
}
