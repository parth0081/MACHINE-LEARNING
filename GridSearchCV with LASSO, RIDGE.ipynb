{
 "cells": [
  {
   "cell_type": "code",
   "execution_count": 59,
   "id": "6250d825",
   "metadata": {},
   "outputs": [],
   "source": [
    "import pandas as pd\n",
    "import numpy as np\n",
    "import matplotlib.pyplot as plt\n",
    "from sklearn.preprocessing import StandardScaler\n",
    "from sklearn.model_selection import train_test_split,GridSearchCV\n",
    "from sklearn.linear_model import Ridge,Lasso\n",
    "from sklearn.metrics import r2_score,mean_squared_error"
   ]
  },
  {
   "cell_type": "markdown",
   "id": "35889af1",
   "metadata": {},
   "source": [
    "### READING THE HOUSING BOSTON DATASET"
   ]
  },
  {
   "cell_type": "code",
   "execution_count": 60,
   "id": "758a4596",
   "metadata": {},
   "outputs": [],
   "source": [
    "cols=['CRIM','ZN','INDUS','CHAS','NOX','RM','AGE','DIS','RAD','TAX','PTRATIO','B','LSTAT','MEDV']\n",
    "df=pd.read_csv('Copy of housing.csv',delim_whitespace=True,header=None,names=cols)"
   ]
  },
  {
   "cell_type": "code",
   "execution_count": 61,
   "id": "5d86e204",
   "metadata": {},
   "outputs": [
    {
     "data": {
      "text/html": [
       "<div>\n",
       "<style scoped>\n",
       "    .dataframe tbody tr th:only-of-type {\n",
       "        vertical-align: middle;\n",
       "    }\n",
       "\n",
       "    .dataframe tbody tr th {\n",
       "        vertical-align: top;\n",
       "    }\n",
       "\n",
       "    .dataframe thead th {\n",
       "        text-align: right;\n",
       "    }\n",
       "</style>\n",
       "<table border=\"1\" class=\"dataframe\">\n",
       "  <thead>\n",
       "    <tr style=\"text-align: right;\">\n",
       "      <th></th>\n",
       "      <th>CRIM</th>\n",
       "      <th>ZN</th>\n",
       "      <th>INDUS</th>\n",
       "      <th>CHAS</th>\n",
       "      <th>NOX</th>\n",
       "      <th>RM</th>\n",
       "      <th>AGE</th>\n",
       "      <th>DIS</th>\n",
       "      <th>RAD</th>\n",
       "      <th>TAX</th>\n",
       "      <th>PTRATIO</th>\n",
       "      <th>B</th>\n",
       "      <th>LSTAT</th>\n",
       "      <th>MEDV</th>\n",
       "    </tr>\n",
       "  </thead>\n",
       "  <tbody>\n",
       "    <tr>\n",
       "      <th>0</th>\n",
       "      <td>0.00632</td>\n",
       "      <td>18.0</td>\n",
       "      <td>2.31</td>\n",
       "      <td>0</td>\n",
       "      <td>0.538</td>\n",
       "      <td>6.575</td>\n",
       "      <td>65.2</td>\n",
       "      <td>4.0900</td>\n",
       "      <td>1</td>\n",
       "      <td>296.0</td>\n",
       "      <td>15.3</td>\n",
       "      <td>396.90</td>\n",
       "      <td>4.98</td>\n",
       "      <td>24.0</td>\n",
       "    </tr>\n",
       "    <tr>\n",
       "      <th>1</th>\n",
       "      <td>0.02731</td>\n",
       "      <td>0.0</td>\n",
       "      <td>7.07</td>\n",
       "      <td>0</td>\n",
       "      <td>0.469</td>\n",
       "      <td>6.421</td>\n",
       "      <td>78.9</td>\n",
       "      <td>4.9671</td>\n",
       "      <td>2</td>\n",
       "      <td>242.0</td>\n",
       "      <td>17.8</td>\n",
       "      <td>396.90</td>\n",
       "      <td>9.14</td>\n",
       "      <td>21.6</td>\n",
       "    </tr>\n",
       "    <tr>\n",
       "      <th>2</th>\n",
       "      <td>0.02729</td>\n",
       "      <td>0.0</td>\n",
       "      <td>7.07</td>\n",
       "      <td>0</td>\n",
       "      <td>0.469</td>\n",
       "      <td>7.185</td>\n",
       "      <td>61.1</td>\n",
       "      <td>4.9671</td>\n",
       "      <td>2</td>\n",
       "      <td>242.0</td>\n",
       "      <td>17.8</td>\n",
       "      <td>392.83</td>\n",
       "      <td>4.03</td>\n",
       "      <td>34.7</td>\n",
       "    </tr>\n",
       "    <tr>\n",
       "      <th>3</th>\n",
       "      <td>0.03237</td>\n",
       "      <td>0.0</td>\n",
       "      <td>2.18</td>\n",
       "      <td>0</td>\n",
       "      <td>0.458</td>\n",
       "      <td>6.998</td>\n",
       "      <td>45.8</td>\n",
       "      <td>6.0622</td>\n",
       "      <td>3</td>\n",
       "      <td>222.0</td>\n",
       "      <td>18.7</td>\n",
       "      <td>394.63</td>\n",
       "      <td>2.94</td>\n",
       "      <td>33.4</td>\n",
       "    </tr>\n",
       "    <tr>\n",
       "      <th>4</th>\n",
       "      <td>0.06905</td>\n",
       "      <td>0.0</td>\n",
       "      <td>2.18</td>\n",
       "      <td>0</td>\n",
       "      <td>0.458</td>\n",
       "      <td>7.147</td>\n",
       "      <td>54.2</td>\n",
       "      <td>6.0622</td>\n",
       "      <td>3</td>\n",
       "      <td>222.0</td>\n",
       "      <td>18.7</td>\n",
       "      <td>396.90</td>\n",
       "      <td>5.33</td>\n",
       "      <td>36.2</td>\n",
       "    </tr>\n",
       "  </tbody>\n",
       "</table>\n",
       "</div>"
      ],
      "text/plain": [
       "      CRIM    ZN  INDUS  CHAS    NOX     RM   AGE     DIS  RAD    TAX  \\\n",
       "0  0.00632  18.0   2.31     0  0.538  6.575  65.2  4.0900    1  296.0   \n",
       "1  0.02731   0.0   7.07     0  0.469  6.421  78.9  4.9671    2  242.0   \n",
       "2  0.02729   0.0   7.07     0  0.469  7.185  61.1  4.9671    2  242.0   \n",
       "3  0.03237   0.0   2.18     0  0.458  6.998  45.8  6.0622    3  222.0   \n",
       "4  0.06905   0.0   2.18     0  0.458  7.147  54.2  6.0622    3  222.0   \n",
       "\n",
       "   PTRATIO       B  LSTAT  MEDV  \n",
       "0     15.3  396.90   4.98  24.0  \n",
       "1     17.8  396.90   9.14  21.6  \n",
       "2     17.8  392.83   4.03  34.7  \n",
       "3     18.7  394.63   2.94  33.4  \n",
       "4     18.7  396.90   5.33  36.2  "
      ]
     },
     "execution_count": 61,
     "metadata": {},
     "output_type": "execute_result"
    }
   ],
   "source": [
    "df.head()"
   ]
  },
  {
   "cell_type": "code",
   "execution_count": 62,
   "id": "eaf27ac2",
   "metadata": {},
   "outputs": [
    {
     "data": {
      "text/plain": [
       "(506, 14)"
      ]
     },
     "execution_count": 62,
     "metadata": {},
     "output_type": "execute_result"
    }
   ],
   "source": [
    "df.shape"
   ]
  },
  {
   "cell_type": "markdown",
   "id": "22f7f592",
   "metadata": {},
   "source": [
    "### DIVIDING THIS DATA INTO TRAIN TEST"
   ]
  },
  {
   "cell_type": "code",
   "execution_count": 63,
   "id": "6df088ef",
   "metadata": {},
   "outputs": [],
   "source": [
    "x=df.iloc[:,:7]\n",
    "y=df.iloc[:,-1]"
   ]
  },
  {
   "cell_type": "code",
   "execution_count": 64,
   "id": "4b95745f",
   "metadata": {},
   "outputs": [],
   "source": [
    "x_train,x_test,y_train,y_test=train_test_split(x,y,test_size=0.2,random_state=2)"
   ]
  },
  {
   "cell_type": "markdown",
   "id": "78117561",
   "metadata": {},
   "source": [
    "### STANDARD SCALING ON x_train  AND x_test"
   ]
  },
  {
   "cell_type": "code",
   "execution_count": 65,
   "id": "e43993dc",
   "metadata": {},
   "outputs": [],
   "source": [
    "std=StandardScaler()\n",
    "x_train_std=std.fit_transform(x_train)\n",
    "x_test_std=std.transform(x_test)"
   ]
  },
  {
   "cell_type": "markdown",
   "id": "4855d7b2",
   "metadata": {},
   "source": [
    "### IMPLEMENTATION OF LASSO REGRESSION  WITH ONLY RANDOM VALUE OF ALPHA OF 0.1"
   ]
  },
  {
   "cell_type": "code",
   "execution_count": 66,
   "id": "955d1c69",
   "metadata": {},
   "outputs": [
    {
     "name": "stdout",
     "output_type": "stream",
     "text": [
      "the r2 score of lasso with alpha of 0.1 is : 0.5655734006598667\n",
      "the mean square error value of lasso with alpha of 0.1 is : 36.73941414764381\n"
     ]
    }
   ],
   "source": [
    "lasso=Lasso(alpha=0.1)\n",
    "lasso.fit(x_train_std,y_train)\n",
    "coef=lasso.coef_\n",
    "y_pred_lasso=lasso.predict(x_train_std)\n",
    "print('the r2 score of lasso with alpha of 0.1 is :',r2_score(y_train,y_pred_lasso))\n",
    "print('the mean square error value of lasso with alpha of 0.1 is :',mean_squared_error(y_train,y_pred_lasso))"
   ]
  },
  {
   "cell_type": "markdown",
   "id": "2d448e4e",
   "metadata": {},
   "source": [
    "### IMPLEMENTATION OF LASSO REGRESSION WITH GridSearchCV "
   ]
  },
  {
   "cell_type": "code",
   "execution_count": 67,
   "id": "fef9128e",
   "metadata": {},
   "outputs": [
    {
     "name": "stderr",
     "output_type": "stream",
     "text": [
      "C:\\Users\\ps109\\AppData\\Local\\Programs\\Python\\Python310\\lib\\site-packages\\sklearn\\model_selection\\_validation.py:686: UserWarning: With alpha=0, this algorithm does not converge well. You are advised to use the LinearRegression estimator\n",
      "  estimator.fit(X_train, y_train, **fit_params)\n",
      "C:\\Users\\ps109\\AppData\\Local\\Programs\\Python\\Python310\\lib\\site-packages\\sklearn\\linear_model\\_coordinate_descent.py:648: UserWarning: Coordinate descent with no regularization may lead to unexpected results and is discouraged.\n",
      "  model = cd_fast.enet_coordinate_descent(\n",
      "C:\\Users\\ps109\\AppData\\Local\\Programs\\Python\\Python310\\lib\\site-packages\\sklearn\\linear_model\\_coordinate_descent.py:648: ConvergenceWarning: Objective did not converge. You might want to increase the number of iterations, check the scale of the features or consider increasing regularisation. Duality gap: 5.303e+03, tolerance: 2.229e+00 Linear regression models with null weight for the l1 regularization term are more efficiently fitted using one of the solvers implemented in sklearn.linear_model.Ridge/RidgeCV instead.\n",
      "  model = cd_fast.enet_coordinate_descent(\n",
      "C:\\Users\\ps109\\AppData\\Local\\Programs\\Python\\Python310\\lib\\site-packages\\sklearn\\model_selection\\_validation.py:686: UserWarning: With alpha=0, this algorithm does not converge well. You are advised to use the LinearRegression estimator\n",
      "  estimator.fit(X_train, y_train, **fit_params)\n",
      "C:\\Users\\ps109\\AppData\\Local\\Programs\\Python\\Python310\\lib\\site-packages\\sklearn\\linear_model\\_coordinate_descent.py:648: UserWarning: Coordinate descent with no regularization may lead to unexpected results and is discouraged.\n",
      "  model = cd_fast.enet_coordinate_descent(\n",
      "C:\\Users\\ps109\\AppData\\Local\\Programs\\Python\\Python310\\lib\\site-packages\\sklearn\\linear_model\\_coordinate_descent.py:648: ConvergenceWarning: Objective did not converge. You might want to increase the number of iterations, check the scale of the features or consider increasing regularisation. Duality gap: 4.846e+03, tolerance: 2.473e+00 Linear regression models with null weight for the l1 regularization term are more efficiently fitted using one of the solvers implemented in sklearn.linear_model.Ridge/RidgeCV instead.\n",
      "  model = cd_fast.enet_coordinate_descent(\n",
      "C:\\Users\\ps109\\AppData\\Local\\Programs\\Python\\Python310\\lib\\site-packages\\sklearn\\model_selection\\_validation.py:686: UserWarning: With alpha=0, this algorithm does not converge well. You are advised to use the LinearRegression estimator\n",
      "  estimator.fit(X_train, y_train, **fit_params)\n",
      "C:\\Users\\ps109\\AppData\\Local\\Programs\\Python\\Python310\\lib\\site-packages\\sklearn\\linear_model\\_coordinate_descent.py:648: UserWarning: Coordinate descent with no regularization may lead to unexpected results and is discouraged.\n",
      "  model = cd_fast.enet_coordinate_descent(\n",
      "C:\\Users\\ps109\\AppData\\Local\\Programs\\Python\\Python310\\lib\\site-packages\\sklearn\\linear_model\\_coordinate_descent.py:648: ConvergenceWarning: Objective did not converge. You might want to increase the number of iterations, check the scale of the features or consider increasing regularisation. Duality gap: 5.430e+03, tolerance: 2.734e+00 Linear regression models with null weight for the l1 regularization term are more efficiently fitted using one of the solvers implemented in sklearn.linear_model.Ridge/RidgeCV instead.\n",
      "  model = cd_fast.enet_coordinate_descent(\n",
      "C:\\Users\\ps109\\AppData\\Local\\Programs\\Python\\Python310\\lib\\site-packages\\sklearn\\model_selection\\_validation.py:686: UserWarning: With alpha=0, this algorithm does not converge well. You are advised to use the LinearRegression estimator\n",
      "  estimator.fit(X_train, y_train, **fit_params)\n",
      "C:\\Users\\ps109\\AppData\\Local\\Programs\\Python\\Python310\\lib\\site-packages\\sklearn\\linear_model\\_coordinate_descent.py:648: UserWarning: Coordinate descent with no regularization may lead to unexpected results and is discouraged.\n",
      "  model = cd_fast.enet_coordinate_descent(\n",
      "C:\\Users\\ps109\\AppData\\Local\\Programs\\Python\\Python310\\lib\\site-packages\\sklearn\\linear_model\\_coordinate_descent.py:648: ConvergenceWarning: Objective did not converge. You might want to increase the number of iterations, check the scale of the features or consider increasing regularisation. Duality gap: 6.359e+03, tolerance: 2.801e+00 Linear regression models with null weight for the l1 regularization term are more efficiently fitted using one of the solvers implemented in sklearn.linear_model.Ridge/RidgeCV instead.\n",
      "  model = cd_fast.enet_coordinate_descent(\n"
     ]
    },
    {
     "name": "stdout",
     "output_type": "stream",
     "text": [
      "the best alpha value for lasso regression is : {'alpha': 0.11}\n",
      "using {'alpha': 0.11} the negative mean squared error is : -40.1515812514278\n"
     ]
    }
   ],
   "source": [
    "lasso_=Lasso()\n",
    "parameters={'alpha':np.arange(0,5,0.01)}\n",
    "lasso_regressor=GridSearchCV(lasso_,parameters,scoring='neg_mean_squared_error',cv=4)\n",
    "lasso_regressor.fit(x_train_std,y_train)\n",
    "print('the best alpha value for lasso regression is :',lasso_regressor.best_params_)\n",
    "print('using',lasso_regressor.best_params_,'the negative mean squared error is :',lasso_regressor.best_score_)"
   ]
  },
  {
   "cell_type": "markdown",
   "id": "a5e83483",
   "metadata": {},
   "source": [
    "#### VALIDATING ALPHA VALUE USING LASSO IMPLEMENTAION AGAIN"
   ]
  },
  {
   "cell_type": "code",
   "execution_count": 68,
   "id": "2ba80f21",
   "metadata": {},
   "outputs": [
    {
     "name": "stdout",
     "output_type": "stream",
     "text": [
      "the r2 score of lasso with alpha of 0.01 is : 0.5655734006598667\n",
      "the mean square error value of lasso with alpha of 0.01 is : 36.745934019310354\n"
     ]
    }
   ],
   "source": [
    "lasso1=Lasso(alpha=0.11)\n",
    "lasso1.fit(x_train_std,y_train)\n",
    "coef=lasso1.coef_\n",
    "y_pred_lasso1=lasso1.predict(x_train_std)\n",
    "print('the r2 score of lasso with alpha of 0.01 is :',r2_score(y_train,y_pred_lasso))\n",
    "print('the mean square error value of lasso with alpha of 0.01 is :',mean_squared_error(y_train,y_pred_lasso1))"
   ]
  },
  {
   "cell_type": "markdown",
   "id": "5614ea2f",
   "metadata": {},
   "source": [
    "### IMPLEMENTATION OF RIDGE REGRESSION USING ALPHA =1"
   ]
  },
  {
   "cell_type": "code",
   "execution_count": 69,
   "id": "8470b3ec",
   "metadata": {},
   "outputs": [
    {
     "name": "stdout",
     "output_type": "stream",
     "text": [
      "the r2 score of ridge with this alpha is : 0.5659383388946646\n",
      "the mean square error value of ridge with this alpha is : 36.708551357550114\n"
     ]
    }
   ],
   "source": [
    "ridge=Ridge(alpha=1)\n",
    "ridge.fit(x_train_std,y_train)\n",
    "coef=ridge.coef_\n",
    "y_pred_ridge=ridge.predict(x_train_std)\n",
    "print('the r2 score of ridge with this alpha is :',r2_score(y_train,y_pred_ridge))\n",
    "print('the mean square error value of ridge with this alpha is :',mean_squared_error(y_train,y_pred_ridge))"
   ]
  },
  {
   "cell_type": "markdown",
   "id": "3de01eba",
   "metadata": {},
   "source": [
    "#### FINDING OPTIMUM ALPHA VALUE FOR RIDGE REGRESSION"
   ]
  },
  {
   "cell_type": "code",
   "execution_count": 70,
   "id": "62eb3008",
   "metadata": {
    "scrolled": true
   },
   "outputs": [
    {
     "name": "stdout",
     "output_type": "stream",
     "text": [
      "the best alpha value for ridge regression is : {'alpha': 34}\n",
      "using {'alpha': 34} the negative mean squared error is : -39.87940437890918\n"
     ]
    }
   ],
   "source": [
    "ridge_=Ridge()\n",
    "parameters={'alpha':np.arange(0,50,1)}\n",
    "ridge_regressor=GridSearchCV(ridge_,parameters,scoring='neg_mean_squared_error',cv=4)\n",
    "ridge_regressor.fit(x_train_std,y_train)\n",
    "print('the best alpha value for ridge regression is :',ridge_regressor.best_params_)\n",
    "print('using',ridge_regressor.best_params_,'the negative mean squared error is :',ridge_regressor.best_score_)"
   ]
  },
  {
   "cell_type": "markdown",
   "id": "0a025f10",
   "metadata": {},
   "source": [
    "#### RIDGE REGRESSION USING OPTIMUM APLHA"
   ]
  },
  {
   "cell_type": "code",
   "execution_count": 71,
   "id": "ab3502f5",
   "metadata": {},
   "outputs": [
    {
     "name": "stdout",
     "output_type": "stream",
     "text": [
      "the r2 score of ridge with this alpha is : 0.5639596495518204\n",
      "the mean square error value of ridge with this alpha is : 36.87588891778861\n"
     ]
    }
   ],
   "source": [
    "ridge1=Ridge(alpha=34)\n",
    "ridge1.fit(x_train_std,y_train)\n",
    "coef=ridge1.coef_\n",
    "y_pred_ridge1=ridge1.predict(x_train_std)\n",
    "print('the r2 score of ridge with this alpha is :',r2_score(y_train,y_pred_ridge1))\n",
    "print('the mean square error value of ridge with this alpha is :',mean_squared_error(y_train,y_pred_ridge1))"
   ]
  }
 ],
 "metadata": {
  "kernelspec": {
   "display_name": "Python 3 (ipykernel)",
   "language": "python",
   "name": "python3"
  },
  "language_info": {
   "codemirror_mode": {
    "name": "ipython",
    "version": 3
   },
   "file_extension": ".py",
   "mimetype": "text/x-python",
   "name": "python",
   "nbconvert_exporter": "python",
   "pygments_lexer": "ipython3",
   "version": "3.10.4"
  }
 },
 "nbformat": 4,
 "nbformat_minor": 5
}
